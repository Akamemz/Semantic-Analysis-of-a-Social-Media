{
 "cells": [
  {
   "cell_type": "markdown",
   "id": "56779307",
   "metadata": {},
   "source": [
    "## Introduction\n",
    "Welcome to this interactive Jupyter notebook on Sentiment Analysis using product reviews. This exercise will help you learn how to process text data, analyze sentiment, and apply basic NLP techniques."
   ]
  },
  {
   "cell_type": "markdown",
   "id": "fcca7c75",
   "metadata": {},
   "source": [
    "## Setup\n",
    "Ensure you have the necessary libraries installed and imported."
   ]
  },
  {
   "cell_type": "code",
   "execution_count": 3,
   "id": "14ceb267",
   "metadata": {
    "ExecuteTime": {
     "end_time": "2024-05-07T11:59:19.895506Z",
     "start_time": "2024-05-07T11:59:17.255349Z"
    }
   },
   "outputs": [
    {
     "name": "stdout",
     "output_type": "stream",
     "text": [
      "Requirement already satisfied: nltk in /Users/timurabdygulov/anaconda3/envs/pythonProject/lib/python3.11/site-packages (3.8.1)\r\n",
      "Requirement already satisfied: scikit-learn in /Users/timurabdygulov/anaconda3/envs/pythonProject/lib/python3.11/site-packages (1.4.2)\r\n",
      "Collecting textblob\r\n",
      "  Downloading textblob-0.18.0.post0-py3-none-any.whl.metadata (4.5 kB)\r\n",
      "Requirement already satisfied: click in /Users/timurabdygulov/anaconda3/envs/pythonProject/lib/python3.11/site-packages (from nltk) (8.1.7)\r\n",
      "Requirement already satisfied: joblib in /Users/timurabdygulov/anaconda3/envs/pythonProject/lib/python3.11/site-packages (from nltk) (1.2.0)\r\n",
      "Requirement already satisfied: regex>=2021.8.3 in /Users/timurabdygulov/anaconda3/envs/pythonProject/lib/python3.11/site-packages (from nltk) (2023.10.3)\r\n",
      "Requirement already satisfied: tqdm in /Users/timurabdygulov/anaconda3/envs/pythonProject/lib/python3.11/site-packages (from nltk) (4.65.0)\r\n",
      "Requirement already satisfied: numpy>=1.19.5 in /Users/timurabdygulov/anaconda3/envs/pythonProject/lib/python3.11/site-packages (from scikit-learn) (1.23.5)\r\n",
      "Requirement already satisfied: scipy>=1.6.0 in /Users/timurabdygulov/anaconda3/envs/pythonProject/lib/python3.11/site-packages (from scikit-learn) (1.11.4)\r\n",
      "Requirement already satisfied: threadpoolctl>=2.0.0 in /Users/timurabdygulov/anaconda3/envs/pythonProject/lib/python3.11/site-packages (from scikit-learn) (2.2.0)\r\n",
      "Downloading textblob-0.18.0.post0-py3-none-any.whl (626 kB)\r\n",
      "\u001B[2K   \u001B[90m━━━━━━━━━━━━━━━━━━━━━━━━━━━━━━━━━━━━━━━━\u001B[0m \u001B[32m626.3/626.3 kB\u001B[0m \u001B[31m2.4 MB/s\u001B[0m eta \u001B[36m0:00:00\u001B[0ma \u001B[36m0:00:01\u001B[0mm\r\n",
      "\u001B[?25hInstalling collected packages: textblob\r\n",
      "Successfully installed textblob-0.18.0.post0\r\n",
      "Note: you may need to restart the kernel to use updated packages.\n"
     ]
    },
    {
     "name": "stderr",
     "output_type": "stream",
     "text": [
      "[nltk_data] Downloading package punkt to\n",
      "[nltk_data]     /Users/timurabdygulov/nltk_data...\n",
      "[nltk_data]   Package punkt is already up-to-date!\n",
      "[nltk_data] Downloading package stopwords to\n",
      "[nltk_data]     /Users/timurabdygulov/nltk_data...\n",
      "[nltk_data]   Package stopwords is already up-to-date!\n"
     ]
    },
    {
     "data": {
      "text/plain": "True"
     },
     "execution_count": 3,
     "metadata": {},
     "output_type": "execute_result"
    }
   ],
   "source": [
    "%pip install nltk scikit-learn textblob\n",
    "import nltk\n",
    "from sklearn.feature_extraction.text import CountVectorizer\n",
    "nltk.download('punkt')\n",
    "nltk.download('stopwords')"
   ]
  },
  {
   "cell_type": "markdown",
   "id": "ef5edd0f",
   "metadata": {},
   "source": [
    "## Product Reviews\n",
    "Below is an array of positive and negative product reviews that we will analyze."
   ]
  },
  {
   "cell_type": "code",
   "execution_count": 7,
   "id": "7e4df690",
   "metadata": {
    "ExecuteTime": {
     "end_time": "2024-05-07T12:07:34.348315Z",
     "start_time": "2024-05-07T12:07:34.346105Z"
    }
   },
   "outputs": [],
   "source": [
    "reviews = ['I absolutely love this product! Highly recommend to everyone.', \"Fantastic quality! I'm very happy with my purchase.\", 'This is the best thing I have bought in a long time!', 'Completely satisfied with the product and service.', 'Five stars, will buy again!', 'This product does exactly what it says, fantastic!', 'Incredible performance and very easy to use.', 'I am so pleased with this purchase, worth every penny!', 'Great value for money and quick delivery.', 'The best on the market, hands down!', 'Such a great purchase, very pleased!', 'Product is of high quality and super durable.', 'Surpassed my expectations, absolutely wonderful!', 'This is amazing, I love it so much!', 'The product works wonderfully and is well made.', 'Not what I expected, quite disappointed.', 'The quality is not as advertised, very upset.', 'This was a waste of money, would not buy again.', 'Poor quality and did not meet my expectations.', \"I regret buying this, it's awful.\", 'Terrible product, do not waste your money!', 'Very unsatisfied with the purchase, it broke within a week.', 'Not worth the price, very misleading.', \"The worst purchase I've ever made!\", \"Disappointed with the product, it's not good at all.\"]"
   ]
  },
  {
   "cell_type": "markdown",
   "id": "04d0536e",
   "metadata": {},
   "source": [
    "## Text Cleaning Exercise\n",
    "Clean the text data by converting to lowercase, removing punctuation, and filtering out stopwords."
   ]
  },
  {
   "cell_type": "code",
   "execution_count": 9,
   "id": "fc51d1d7",
   "metadata": {
    "ExecuteTime": {
     "end_time": "2024-05-07T12:07:57.416275Z",
     "start_time": "2024-05-07T12:07:57.408744Z"
    }
   },
   "outputs": [
    {
     "name": "stdout",
     "output_type": "stream",
     "text": [
      "['absolutely love product highly recommend everyone', \"fantastic quality 'm happy purchase\", 'best thing bought long time', 'completely satisfied product service', 'five stars buy', 'product exactly says fantastic', 'incredible performance easy use', 'pleased purchase worth every penny', 'great value money quick delivery', 'best market hands', 'great purchase pleased', 'product high quality super durable', 'surpassed expectations absolutely wonderful', 'amazing love much', 'product works wonderfully well made', 'expected quite disappointed', 'quality advertised upset', 'waste money would buy', 'poor quality meet expectations', \"regret buying 's awful\", 'terrible product waste money', 'unsatisfied purchase broke within week', 'worth price misleading', \"worst purchase 've ever made\", \"disappointed product 's good\"]\n"
     ]
    }
   ],
   "source": [
    "from nltk.corpus import stopwords\n",
    "from nltk.tokenize import word_tokenize\n",
    "import string\n",
    "\n",
    "def clean_text(reviews):\n",
    "    cleaned_reviews = []\n",
    "    stop = set(stopwords.words('english') + list(string.punctuation))\n",
    "    for review in reviews:\n",
    "        # Tokenize the review\n",
    "        tokens = word_tokenize(review)\n",
    "        # Remove stopwords and punctuation\n",
    "        cleaned_tokens = [token.lower() for token in tokens if token.lower() not in stop]\n",
    "        cleaned_reviews.append(' '.join(cleaned_tokens))\n",
    "    return cleaned_reviews\n",
    "\n",
    "# Clean the reviews\n",
    "cleaned_reviews = clean_text(reviews)\n",
    "print(cleaned_reviews)"
   ]
  },
  {
   "cell_type": "markdown",
   "id": "c7328509",
   "metadata": {},
   "source": [
    "## Sentiment Analysis Exercise\n",
    "Perform sentiment analysis using simple word counting. Identify positive and negative words, and classify the reviews based on the counts."
   ]
  },
  {
   "cell_type": "code",
   "execution_count": 11,
   "id": "ba31036a",
   "metadata": {
    "ExecuteTime": {
     "end_time": "2024-05-07T12:11:15.798937Z",
     "start_time": "2024-05-07T12:11:15.788806Z"
    }
   },
   "outputs": [
    {
     "name": "stdout",
     "output_type": "stream",
     "text": [
      "Positive\n",
      "Positive\n",
      "Positive\n",
      "Positive\n",
      "Neutral\n",
      "Positive\n",
      "Positive\n",
      "Positive\n",
      "Positive\n",
      "Positive\n",
      "Positive\n",
      "Positive\n",
      "Positive\n",
      "Positive\n",
      "Neutral\n",
      "Negative\n",
      "Neutral\n",
      "Negative\n",
      "Negative\n",
      "Negative\n",
      "Negative\n",
      "Negative\n",
      "Neutral\n",
      "Negative\n",
      "Negative\n",
      "The reviews are mostly positive.\n"
     ]
    }
   ],
   "source": [
    "positive_words = ['love', 'fantastic', 'best', 'incredible', 'pleased', 'great', 'amazing', 'high', 'wonderful', 'satisfied']\n",
    "negative_words = ['disappointed', 'waste', 'poor', 'regret', 'terrible', 'unsatisfied', 'broke', 'worst', 'not']\n",
    "\n",
    "def analyze_sentiment(reviews):\n",
    "    results = []\n",
    "    for review in reviews:\n",
    "        # Get count of positive and negative words in the review\n",
    "        tokens = word_tokenize(review.lower())\n",
    "        positive_count = sum(token in positive_words for token in tokens)\n",
    "        negative_count = sum(token in negative_words for token in tokens)\n",
    "        \n",
    "        # Determine sentiment as positive or negative\n",
    "        if positive_count > negative_count:\n",
    "            sentiment = 'Positive'\n",
    "        elif negative_count > positive_count:\n",
    "            sentiment = 'Negative'\n",
    "        else:\n",
    "            sentiment = 'Neutral'\n",
    "        \n",
    "        results.append(sentiment)\n",
    "    return results\n",
    "\n",
    "\n",
    "# Analyze the sentiment of cleaned reviews\n",
    "sentiment_results = analyze_sentiment(cleaned_reviews)\n",
    "for result in sentiment_results:\n",
    "    print(result)\n",
    "\n",
    "# To determine if the reviews are mostly positive or negative\n",
    "positive_count = sum(result == 'Positive' for result in sentiment_results)\n",
    "negative_count = sum(result == 'Negative' for result in sentiment_results)\n",
    "\n",
    "#TODO: Are the reviews mostly positive or negative?\n",
    "if positive_count > negative_count:\n",
    "    print(\"The reviews are mostly positive.\")\n",
    "elif negative_count > positive_count:\n",
    "    print(\"The reviews are mostly negative.\")\n",
    "else:\n",
    "    print(\"The reviews are balanced between positive and negative.\")"
   ]
  },
  {
   "cell_type": "code",
   "execution_count": 15,
   "id": "1af6c43d",
   "metadata": {
    "ExecuteTime": {
     "end_time": "2024-05-07T12:14:28.557501Z",
     "start_time": "2024-05-07T12:14:28.549684Z"
    }
   },
   "outputs": [
    {
     "name": "stdout",
     "output_type": "stream",
     "text": [
      "I absolutely love this product! Highly recommend to everyone. - Sentiment: 0.393\n",
      "Fantastic quality! I'm very happy with my purchase. - Sentiment: 0.75\n",
      "This is the best thing I have bought in a long time! - Sentiment: 0.469\n",
      "Completely satisfied with the product and service. - Sentiment: 0.5\n",
      "Five stars, will buy again! - Sentiment: 0.0\n",
      "This product does exactly what it says, fantastic! - Sentiment: 0.375\n",
      "Incredible performance and very easy to use. - Sentiment: 0.732\n",
      "I am so pleased with this purchase, worth every penny! - Sentiment: 0.438\n",
      "Great value for money and quick delivery. - Sentiment: 0.567\n",
      "The best on the market, hands down! - Sentiment: 0.403\n",
      "Such a great purchase, very pleased! - Sentiment: 0.537\n",
      "Product is of high quality and super durable. - Sentiment: 0.247\n",
      "Surpassed my expectations, absolutely wonderful! - Sentiment: 1.0\n",
      "This is amazing, I love it so much! - Sentiment: 0.45\n",
      "The product works wonderfully and is well made. - Sentiment: 1.0\n",
      "Not what I expected, quite disappointed. - Sentiment: -0.425\n",
      "The quality is not as advertised, very upset. - Sentiment: 0.2\n",
      "This was a waste of money, would not buy again. - Sentiment: -0.2\n",
      "Poor quality and did not meet my expectations. - Sentiment: -0.4\n",
      "I regret buying this, it's awful. - Sentiment: -1.0\n",
      "Terrible product, do not waste your money! - Sentiment: -0.438\n",
      "Very unsatisfied with the purchase, it broke within a week. - Sentiment: 0.2\n",
      "Not worth the price, very misleading. - Sentiment: 0.025\n",
      "The worst purchase I've ever made! - Sentiment: -1.0\n",
      "Disappointed with the product, it's not good at all. - Sentiment: -0.55\n",
      "Average Sentiment Score: 0.171\n"
     ]
    }
   ],
   "source": [
    "from textblob import TextBlob\n",
    "\n",
    "sentiments = []\n",
    "\n",
    "for review in reviews:\n",
    "    blob = TextBlob(review)\n",
    "    # Get the sentiment score (polarity) of the review\n",
    "    polarity = blob.sentiment.polarity\n",
    "    \n",
    "    # Classify the sentiment as positive, negative or neutral\n",
    "    if polarity > 0:\n",
    "        sentiment = 'Positive'\n",
    "    elif polarity < 0:\n",
    "        sentiment = 'Negative'\n",
    "    else:\n",
    "        sentiment = 'Neutral'\n",
    "    \n",
    "    sentiments.append(polarity)\n",
    "\n",
    "for i, review in enumerate(reviews):\n",
    "    print(f'{review} - Sentiment: {round(sentiments[i], 3)}')\n",
    "    \n",
    "#TODO: Calculate the average sentiment score\n",
    "average_sentiment = sum(sentiments) / len(sentiments)\n",
    "print(f\"Average Sentiment Score: {round(average_sentiment, 3)}\")"
   ]
  },
  {
   "cell_type": "markdown",
   "id": "deb1eeb2",
   "metadata": {},
   "source": [
    "## Conclusion\n",
    "Congratulations on completing this exercise! You've learned how to clean text data and perform basic sentiment analysis."
   ]
  },
  {
   "cell_type": "code",
   "outputs": [],
   "source": [],
   "metadata": {
    "collapsed": false
   },
   "id": "6357e971da5fd787"
  }
 ],
 "metadata": {
  "kernelspec": {
   "display_name": "build",
   "language": "python",
   "name": "python3"
  },
  "language_info": {
   "codemirror_mode": {
    "name": "ipython",
    "version": 3
   },
   "file_extension": ".py",
   "mimetype": "text/x-python",
   "name": "python",
   "nbconvert_exporter": "python",
   "pygments_lexer": "ipython3",
   "version": "3.10.13"
  }
 },
 "nbformat": 4,
 "nbformat_minor": 5
}
